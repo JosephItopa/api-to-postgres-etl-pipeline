{
 "cells": [
  {
   "cell_type": "code",
   "execution_count": 13,
   "metadata": {},
   "outputs": [],
   "source": [
    "import json\n",
    "import requests\n",
    "import numpy as np\n",
    "import pandas as pd"
   ]
  },
  {
   "cell_type": "code",
   "execution_count": 14,
   "metadata": {},
   "outputs": [],
   "source": [
    "def extract_data(start_date, end_date):\n",
    "    # Construct the API with star and end dates provided by Data Factory, formatted for geojson output.\n",
    "    url = f\"https://earthquake.usgs.gov/fdsnws/event/1/query?format=geojson&starttime={start_date}&endtime={end_date}\"\n",
    "\n",
    "    # Make the GET request to fetch data\n",
    "    response = requests.get(url)\n",
    "\n",
    "    #Check if the request was successful\n",
    "    if response.status_code == 200:\n",
    "        #Get the JSON response\n",
    "        data = response.json()\n",
    "        return data['features']\n",
    "\n",
    "        #Speify the file name (and path if needed)\n",
    "        #file_path = f'/earthquake_data_{start_date}.json'\n",
    "\n",
    "        #Open the file in write mode ('w') and save the JSON data\n",
    "        #with open(file_path, 'w') as file:\n",
    "            # The `json.dump`method serializes `data`as a JSON formatted stream\n",
    "            # `indent=4` makes the file humam-readable by adding whitespace\n",
    "        #    json.dump(data, file, indent=4)\n",
    "        #print(f\"Data successfully saved to {file_path}\")\n",
    "    else:\n",
    "        print(\"Failed to fetch) data. Status code: \", response.status_code)"
   ]
  },
  {
   "cell_type": "code",
   "execution_count": 18,
   "metadata": {},
   "outputs": [],
   "source": [
    "from extract import extract_data\n",
    "df = extract_data()"
   ]
  },
  {
   "cell_type": "code",
   "execution_count": 19,
   "metadata": {},
   "outputs": [
    {
     "name": "stdout",
     "output_type": "stream",
     "text": [
      "<class 'pandas.core.frame.DataFrame'>\n",
      "RangeIndex: 2 entries, 0 to 1\n",
      "Data columns (total 12 columns):\n",
      " #   Column    Non-Null Count  Dtype \n",
      "---  ------    --------------  ----- \n",
      " 0   id        2 non-null      int64 \n",
      " 1   name      2 non-null      object\n",
      " 2   status    2 non-null      object\n",
      " 3   species   2 non-null      object\n",
      " 4   type      2 non-null      object\n",
      " 5   gender    2 non-null      object\n",
      " 6   origin    2 non-null      object\n",
      " 7   location  2 non-null      object\n",
      " 8   image     2 non-null      object\n",
      " 9   episode   2 non-null      object\n",
      " 10  url       2 non-null      object\n",
      " 11  created   2 non-null      object\n",
      "dtypes: int64(1), object(11)\n",
      "memory usage: 324.0+ bytes\n"
     ]
    },
    {
     "data": {
      "text/html": [
       "<div>\n",
       "<style scoped>\n",
       "    .dataframe tbody tr th:only-of-type {\n",
       "        vertical-align: middle;\n",
       "    }\n",
       "\n",
       "    .dataframe tbody tr th {\n",
       "        vertical-align: top;\n",
       "    }\n",
       "\n",
       "    .dataframe thead th {\n",
       "        text-align: right;\n",
       "    }\n",
       "</style>\n",
       "<table border=\"1\" class=\"dataframe\">\n",
       "  <thead>\n",
       "    <tr style=\"text-align: right;\">\n",
       "      <th></th>\n",
       "      <th>id</th>\n",
       "      <th>name</th>\n",
       "      <th>status</th>\n",
       "      <th>species</th>\n",
       "      <th>type</th>\n",
       "      <th>gender</th>\n",
       "      <th>origin</th>\n",
       "      <th>location</th>\n",
       "      <th>image</th>\n",
       "      <th>episode</th>\n",
       "      <th>url</th>\n",
       "      <th>created</th>\n",
       "    </tr>\n",
       "  </thead>\n",
       "  <tbody>\n",
       "    <tr>\n",
       "      <th>0</th>\n",
       "      <td>1</td>\n",
       "      <td>Rick Sanchez</td>\n",
       "      <td>Alive</td>\n",
       "      <td>Human</td>\n",
       "      <td></td>\n",
       "      <td>Male</td>\n",
       "      <td>{'name': 'Earth (C-137)', 'url': 'https://rick...</td>\n",
       "      <td>{'name': 'Citadel of Ricks', 'url': 'https://r...</td>\n",
       "      <td>https://rickandmortyapi.com/api/character/avat...</td>\n",
       "      <td>[https://rickandmortyapi.com/api/episode/1, ht...</td>\n",
       "      <td>https://rickandmortyapi.com/api/character/1</td>\n",
       "      <td>2017-11-04T18:48:46.250Z</td>\n",
       "    </tr>\n",
       "    <tr>\n",
       "      <th>1</th>\n",
       "      <td>10</td>\n",
       "      <td>Alan Rails</td>\n",
       "      <td>Dead</td>\n",
       "      <td>Human</td>\n",
       "      <td>Superhuman (Ghost trains summoner)</td>\n",
       "      <td>Male</td>\n",
       "      <td>{'name': 'unknown', 'url': ''}</td>\n",
       "      <td>{'name': 'Worldender's lair', 'url': 'https://...</td>\n",
       "      <td>https://rickandmortyapi.com/api/character/avat...</td>\n",
       "      <td>[https://rickandmortyapi.com/api/episode/25]</td>\n",
       "      <td>https://rickandmortyapi.com/api/character/10</td>\n",
       "      <td>2017-11-04T20:19:09.017Z</td>\n",
       "    </tr>\n",
       "  </tbody>\n",
       "</table>\n",
       "</div>"
      ],
      "text/plain": [
       "   id          name status species                                type gender  \\\n",
       "0   1  Rick Sanchez  Alive   Human                                       Male   \n",
       "1  10    Alan Rails   Dead   Human  Superhuman (Ghost trains summoner)   Male   \n",
       "\n",
       "                                              origin  \\\n",
       "0  {'name': 'Earth (C-137)', 'url': 'https://rick...   \n",
       "1                     {'name': 'unknown', 'url': ''}   \n",
       "\n",
       "                                            location  \\\n",
       "0  {'name': 'Citadel of Ricks', 'url': 'https://r...   \n",
       "1  {'name': 'Worldender's lair', 'url': 'https://...   \n",
       "\n",
       "                                               image  \\\n",
       "0  https://rickandmortyapi.com/api/character/avat...   \n",
       "1  https://rickandmortyapi.com/api/character/avat...   \n",
       "\n",
       "                                             episode  \\\n",
       "0  [https://rickandmortyapi.com/api/episode/1, ht...   \n",
       "1       [https://rickandmortyapi.com/api/episode/25]   \n",
       "\n",
       "                                            url                   created  \n",
       "0   https://rickandmortyapi.com/api/character/1  2017-11-04T18:48:46.250Z  \n",
       "1  https://rickandmortyapi.com/api/character/10  2017-11-04T20:19:09.017Z  "
      ]
     },
     "metadata": {},
     "output_type": "display_data"
    },
    {
     "data": {
      "text/plain": [
       "None"
      ]
     },
     "metadata": {},
     "output_type": "display_data"
    },
    {
     "data": {
      "text/html": [
       "<div>\n",
       "<style scoped>\n",
       "    .dataframe tbody tr th:only-of-type {\n",
       "        vertical-align: middle;\n",
       "    }\n",
       "\n",
       "    .dataframe tbody tr th {\n",
       "        vertical-align: top;\n",
       "    }\n",
       "\n",
       "    .dataframe thead th {\n",
       "        text-align: right;\n",
       "    }\n",
       "</style>\n",
       "<table border=\"1\" class=\"dataframe\">\n",
       "  <thead>\n",
       "    <tr style=\"text-align: right;\">\n",
       "      <th></th>\n",
       "      <th>id</th>\n",
       "      <th>type</th>\n",
       "      <th>status</th>\n",
       "    </tr>\n",
       "  </thead>\n",
       "  <tbody>\n",
       "    <tr>\n",
       "      <th>0</th>\n",
       "      <td>1</td>\n",
       "      <td></td>\n",
       "      <td>Alive</td>\n",
       "    </tr>\n",
       "    <tr>\n",
       "      <th>1</th>\n",
       "      <td>10</td>\n",
       "      <td>Superhuman (Ghost trains summoner)</td>\n",
       "      <td>Dead</td>\n",
       "    </tr>\n",
       "  </tbody>\n",
       "</table>\n",
       "</div>"
      ],
      "text/plain": [
       "   id                                type status\n",
       "0   1                                      Alive\n",
       "1  10  Superhuman (Ghost trains summoner)   Dead"
      ]
     },
     "execution_count": 19,
     "metadata": {},
     "output_type": "execute_result"
    }
   ],
   "source": [
    "display(df.head(3), df.info())\n",
    "df[['id', 'type', 'status']]"
   ]
  },
  {
   "cell_type": "code",
   "execution_count": 22,
   "metadata": {},
   "outputs": [],
   "source": [
    "import transform"
   ]
  },
  {
   "cell_type": "code",
   "execution_count": 23,
   "metadata": {},
   "outputs": [
    {
     "ename": "TypeError",
     "evalue": "unhashable type: 'list'",
     "output_type": "error",
     "traceback": [
      "\u001b[1;31m---------------------------------------------------------------------------\u001b[0m",
      "\u001b[1;31mTypeError\u001b[0m                                 Traceback (most recent call last)",
      "Cell \u001b[1;32mIn[23], line 1\u001b[0m\n\u001b[1;32m----> 1\u001b[0m \u001b[43mtransform\u001b[49m\u001b[38;5;241;43m.\u001b[39;49m\u001b[43mtransformation\u001b[49m\u001b[43m(\u001b[49m\u001b[43mdf\u001b[49m\u001b[43m)\u001b[49m\n",
      "File \u001b[1;32mc:\\Users\\Dell\\Documents\\my_linux\\repos\\cde_projects\\dbks_pipeline\\transform.py:20\u001b[0m, in \u001b[0;36mtransformation\u001b[1;34m(df)\u001b[0m\n\u001b[0;32m     <a href='file:///c%3A/Users/Dell/Documents/my_linux/repos/cde_projects/dbks_pipeline/transform.py?line=16'>17</a>\u001b[0m df[\u001b[39m\"\u001b[39m\u001b[39mlocations\u001b[39m\u001b[39m\"\u001b[39m] \u001b[39m=\u001b[39m df[\u001b[39m\"\u001b[39m\u001b[39mlocation\u001b[39m\u001b[39m\"\u001b[39m]\u001b[39m.\u001b[39mapply(\u001b[39mlambda\u001b[39;00m x: x[\u001b[39m\"\u001b[39m\u001b[39mname\u001b[39m\u001b[39m\"\u001b[39m])\n\u001b[0;32m     <a href='file:///c%3A/Users/Dell/Documents/my_linux/repos/cde_projects/dbks_pipeline/transform.py?line=17'>18</a>\u001b[0m data \u001b[39m=\u001b[39m df[[\u001b[39m'\u001b[39m\u001b[39mid\u001b[39m\u001b[39m'\u001b[39m, \u001b[39m'\u001b[39m\u001b[39mname\u001b[39m\u001b[39m'\u001b[39m, \u001b[39m'\u001b[39m\u001b[39mstatus\u001b[39m\u001b[39m'\u001b[39m, \u001b[39m'\u001b[39m\u001b[39mspecies\u001b[39m\u001b[39m'\u001b[39m, \u001b[39m'\u001b[39m\u001b[39mtype\u001b[39m\u001b[39m'\u001b[39m,\\\n\u001b[0;32m     <a href='file:///c%3A/Users/Dell/Documents/my_linux/repos/cde_projects/dbks_pipeline/transform.py?line=18'>19</a>\u001b[0m      \u001b[39m'\u001b[39m\u001b[39mgender\u001b[39m\u001b[39m'\u001b[39m, \u001b[39m'\u001b[39m\u001b[39mcreated\u001b[39m\u001b[39m'\u001b[39m, \u001b[39m'\u001b[39m\u001b[39morigins\u001b[39m\u001b[39m'\u001b[39m, \u001b[39m'\u001b[39m\u001b[39mlocations\u001b[39m\u001b[39m'\u001b[39m, \u001b[39m'\u001b[39m\u001b[39mepisode\u001b[39m\u001b[39m'\u001b[39m, \u001b[39m'\u001b[39m\u001b[39murl\u001b[39m\u001b[39m'\u001b[39m]]\n\u001b[1;32m---> <a href='file:///c%3A/Users/Dell/Documents/my_linux/repos/cde_projects/dbks_pipeline/transform.py?line=19'>20</a>\u001b[0m \u001b[39mreturn\u001b[39;00m data\u001b[39m.\u001b[39;49mdrop_duplicates(inplace\u001b[39m=\u001b[39;49m\u001b[39mTrue\u001b[39;49;00m)\n",
      "File \u001b[1;32m~\\AppData\\Local\\Programs\\Python\\Python312\\Lib\\site-packages\\pandas\\core\\frame.py:6818\u001b[0m, in \u001b[0;36mDataFrame.drop_duplicates\u001b[1;34m(self, subset, keep, inplace, ignore_index)\u001b[0m\n\u001b[0;32m   <a href='file:///c%3A/Users/Dell/AppData/Local/Programs/Python/Python312/Lib/site-packages/pandas/core/frame.py?line=6814'>6815</a>\u001b[0m inplace \u001b[39m=\u001b[39m validate_bool_kwarg(inplace, \u001b[39m\"\u001b[39m\u001b[39minplace\u001b[39m\u001b[39m\"\u001b[39m)\n\u001b[0;32m   <a href='file:///c%3A/Users/Dell/AppData/Local/Programs/Python/Python312/Lib/site-packages/pandas/core/frame.py?line=6815'>6816</a>\u001b[0m ignore_index \u001b[39m=\u001b[39m validate_bool_kwarg(ignore_index, \u001b[39m\"\u001b[39m\u001b[39mignore_index\u001b[39m\u001b[39m\"\u001b[39m)\n\u001b[1;32m-> <a href='file:///c%3A/Users/Dell/AppData/Local/Programs/Python/Python312/Lib/site-packages/pandas/core/frame.py?line=6817'>6818</a>\u001b[0m result \u001b[39m=\u001b[39m \u001b[39mself\u001b[39m[\u001b[39m-\u001b[39m\u001b[39mself\u001b[39;49m\u001b[39m.\u001b[39;49mduplicated(subset, keep\u001b[39m=\u001b[39;49mkeep)]\n\u001b[0;32m   <a href='file:///c%3A/Users/Dell/AppData/Local/Programs/Python/Python312/Lib/site-packages/pandas/core/frame.py?line=6818'>6819</a>\u001b[0m \u001b[39mif\u001b[39;00m ignore_index:\n\u001b[0;32m   <a href='file:///c%3A/Users/Dell/AppData/Local/Programs/Python/Python312/Lib/site-packages/pandas/core/frame.py?line=6819'>6820</a>\u001b[0m     result\u001b[39m.\u001b[39mindex \u001b[39m=\u001b[39m default_index(\u001b[39mlen\u001b[39m(result))\n",
      "File \u001b[1;32m~\\AppData\\Local\\Programs\\Python\\Python312\\Lib\\site-packages\\pandas\\core\\frame.py:6958\u001b[0m, in \u001b[0;36mDataFrame.duplicated\u001b[1;34m(self, subset, keep)\u001b[0m\n\u001b[0;32m   <a href='file:///c%3A/Users/Dell/AppData/Local/Programs/Python/Python312/Lib/site-packages/pandas/core/frame.py?line=6955'>6956</a>\u001b[0m \u001b[39melse\u001b[39;00m:\n\u001b[0;32m   <a href='file:///c%3A/Users/Dell/AppData/Local/Programs/Python/Python312/Lib/site-packages/pandas/core/frame.py?line=6956'>6957</a>\u001b[0m     vals \u001b[39m=\u001b[39m (col\u001b[39m.\u001b[39mvalues \u001b[39mfor\u001b[39;00m name, col \u001b[39min\u001b[39;00m \u001b[39mself\u001b[39m\u001b[39m.\u001b[39mitems() \u001b[39mif\u001b[39;00m name \u001b[39min\u001b[39;00m subset)\n\u001b[1;32m-> <a href='file:///c%3A/Users/Dell/AppData/Local/Programs/Python/Python312/Lib/site-packages/pandas/core/frame.py?line=6957'>6958</a>\u001b[0m     labels, shape \u001b[39m=\u001b[39m \u001b[39mmap\u001b[39m(\u001b[39mlist\u001b[39m, \u001b[39mzip\u001b[39;49m(\u001b[39m*\u001b[39;49m\u001b[39mmap\u001b[39;49m(f, vals)))\n\u001b[0;32m   <a href='file:///c%3A/Users/Dell/AppData/Local/Programs/Python/Python312/Lib/site-packages/pandas/core/frame.py?line=6959'>6960</a>\u001b[0m     ids \u001b[39m=\u001b[39m get_group_index(labels, \u001b[39mtuple\u001b[39m(shape), sort\u001b[39m=\u001b[39m\u001b[39mFalse\u001b[39;00m, xnull\u001b[39m=\u001b[39m\u001b[39mFalse\u001b[39;00m)\n\u001b[0;32m   <a href='file:///c%3A/Users/Dell/AppData/Local/Programs/Python/Python312/Lib/site-packages/pandas/core/frame.py?line=6960'>6961</a>\u001b[0m     result \u001b[39m=\u001b[39m \u001b[39mself\u001b[39m\u001b[39m.\u001b[39m_constructor_sliced(duplicated(ids, keep), index\u001b[39m=\u001b[39m\u001b[39mself\u001b[39m\u001b[39m.\u001b[39mindex)\n",
      "File \u001b[1;32m~\\AppData\\Local\\Programs\\Python\\Python312\\Lib\\site-packages\\pandas\\core\\frame.py:6926\u001b[0m, in \u001b[0;36mDataFrame.duplicated.<locals>.f\u001b[1;34m(vals)\u001b[0m\n\u001b[0;32m   <a href='file:///c%3A/Users/Dell/AppData/Local/Programs/Python/Python312/Lib/site-packages/pandas/core/frame.py?line=6924'>6925</a>\u001b[0m \u001b[39mdef\u001b[39;00m\u001b[39m \u001b[39m\u001b[39mf\u001b[39m(vals) \u001b[39m-\u001b[39m\u001b[39m>\u001b[39m \u001b[39mtuple\u001b[39m[np\u001b[39m.\u001b[39mndarray, \u001b[39mint\u001b[39m]:\n\u001b[1;32m-> <a href='file:///c%3A/Users/Dell/AppData/Local/Programs/Python/Python312/Lib/site-packages/pandas/core/frame.py?line=6925'>6926</a>\u001b[0m     labels, shape \u001b[39m=\u001b[39m algorithms\u001b[39m.\u001b[39;49mfactorize(vals, size_hint\u001b[39m=\u001b[39;49m\u001b[39mlen\u001b[39;49m(\u001b[39mself\u001b[39;49m))\n\u001b[0;32m   <a href='file:///c%3A/Users/Dell/AppData/Local/Programs/Python/Python312/Lib/site-packages/pandas/core/frame.py?line=6926'>6927</a>\u001b[0m     \u001b[39mreturn\u001b[39;00m labels\u001b[39m.\u001b[39mastype(\u001b[39m\"\u001b[39m\u001b[39mi8\u001b[39m\u001b[39m\"\u001b[39m, copy\u001b[39m=\u001b[39m\u001b[39mFalse\u001b[39;00m), \u001b[39mlen\u001b[39m(shape)\n",
      "File \u001b[1;32m~\\AppData\\Local\\Programs\\Python\\Python312\\Lib\\site-packages\\pandas\\core\\algorithms.py:795\u001b[0m, in \u001b[0;36mfactorize\u001b[1;34m(values, sort, use_na_sentinel, size_hint)\u001b[0m\n\u001b[0;32m    <a href='file:///c%3A/Users/Dell/AppData/Local/Programs/Python/Python312/Lib/site-packages/pandas/core/algorithms.py?line=791'>792</a>\u001b[0m             \u001b[39m# Don't modify (potentially user-provided) array\u001b[39;00m\n\u001b[0;32m    <a href='file:///c%3A/Users/Dell/AppData/Local/Programs/Python/Python312/Lib/site-packages/pandas/core/algorithms.py?line=792'>793</a>\u001b[0m             values \u001b[39m=\u001b[39m np\u001b[39m.\u001b[39mwhere(null_mask, na_value, values)\n\u001b[1;32m--> <a href='file:///c%3A/Users/Dell/AppData/Local/Programs/Python/Python312/Lib/site-packages/pandas/core/algorithms.py?line=794'>795</a>\u001b[0m     codes, uniques \u001b[39m=\u001b[39m factorize_array(\n\u001b[0;32m    <a href='file:///c%3A/Users/Dell/AppData/Local/Programs/Python/Python312/Lib/site-packages/pandas/core/algorithms.py?line=795'>796</a>\u001b[0m         values,\n\u001b[0;32m    <a href='file:///c%3A/Users/Dell/AppData/Local/Programs/Python/Python312/Lib/site-packages/pandas/core/algorithms.py?line=796'>797</a>\u001b[0m         use_na_sentinel\u001b[39m=\u001b[39;49muse_na_sentinel,\n\u001b[0;32m    <a href='file:///c%3A/Users/Dell/AppData/Local/Programs/Python/Python312/Lib/site-packages/pandas/core/algorithms.py?line=797'>798</a>\u001b[0m         size_hint\u001b[39m=\u001b[39;49msize_hint,\n\u001b[0;32m    <a href='file:///c%3A/Users/Dell/AppData/Local/Programs/Python/Python312/Lib/site-packages/pandas/core/algorithms.py?line=798'>799</a>\u001b[0m     )\n\u001b[0;32m    <a href='file:///c%3A/Users/Dell/AppData/Local/Programs/Python/Python312/Lib/site-packages/pandas/core/algorithms.py?line=800'>801</a>\u001b[0m \u001b[39mif\u001b[39;00m sort \u001b[39mand\u001b[39;00m \u001b[39mlen\u001b[39m(uniques) \u001b[39m>\u001b[39m \u001b[39m0\u001b[39m:\n\u001b[0;32m    <a href='file:///c%3A/Users/Dell/AppData/Local/Programs/Python/Python312/Lib/site-packages/pandas/core/algorithms.py?line=801'>802</a>\u001b[0m     uniques, codes \u001b[39m=\u001b[39m safe_sort(\n\u001b[0;32m    <a href='file:///c%3A/Users/Dell/AppData/Local/Programs/Python/Python312/Lib/site-packages/pandas/core/algorithms.py?line=802'>803</a>\u001b[0m         uniques,\n\u001b[0;32m    <a href='file:///c%3A/Users/Dell/AppData/Local/Programs/Python/Python312/Lib/site-packages/pandas/core/algorithms.py?line=803'>804</a>\u001b[0m         codes,\n\u001b[1;32m   (...)\u001b[0m\n\u001b[0;32m    <a href='file:///c%3A/Users/Dell/AppData/Local/Programs/Python/Python312/Lib/site-packages/pandas/core/algorithms.py?line=806'>807</a>\u001b[0m         verify\u001b[39m=\u001b[39m\u001b[39mFalse\u001b[39;00m,\n\u001b[0;32m    <a href='file:///c%3A/Users/Dell/AppData/Local/Programs/Python/Python312/Lib/site-packages/pandas/core/algorithms.py?line=807'>808</a>\u001b[0m     )\n",
      "File \u001b[1;32m~\\AppData\\Local\\Programs\\Python\\Python312\\Lib\\site-packages\\pandas\\core\\algorithms.py:595\u001b[0m, in \u001b[0;36mfactorize_array\u001b[1;34m(values, use_na_sentinel, size_hint, na_value, mask)\u001b[0m\n\u001b[0;32m    <a href='file:///c%3A/Users/Dell/AppData/Local/Programs/Python/Python312/Lib/site-packages/pandas/core/algorithms.py?line=591'>592</a>\u001b[0m hash_klass, values \u001b[39m=\u001b[39m _get_hashtable_algo(values)\n\u001b[0;32m    <a href='file:///c%3A/Users/Dell/AppData/Local/Programs/Python/Python312/Lib/site-packages/pandas/core/algorithms.py?line=593'>594</a>\u001b[0m table \u001b[39m=\u001b[39m hash_klass(size_hint \u001b[39mor\u001b[39;00m \u001b[39mlen\u001b[39m(values))\n\u001b[1;32m--> <a href='file:///c%3A/Users/Dell/AppData/Local/Programs/Python/Python312/Lib/site-packages/pandas/core/algorithms.py?line=594'>595</a>\u001b[0m uniques, codes \u001b[39m=\u001b[39m table\u001b[39m.\u001b[39;49mfactorize(\n\u001b[0;32m    <a href='file:///c%3A/Users/Dell/AppData/Local/Programs/Python/Python312/Lib/site-packages/pandas/core/algorithms.py?line=595'>596</a>\u001b[0m     values,\n\u001b[0;32m    <a href='file:///c%3A/Users/Dell/AppData/Local/Programs/Python/Python312/Lib/site-packages/pandas/core/algorithms.py?line=596'>597</a>\u001b[0m     na_sentinel\u001b[39m=\u001b[39;49m\u001b[39m-\u001b[39;49m\u001b[39m1\u001b[39;49m,\n\u001b[0;32m    <a href='file:///c%3A/Users/Dell/AppData/Local/Programs/Python/Python312/Lib/site-packages/pandas/core/algorithms.py?line=597'>598</a>\u001b[0m     na_value\u001b[39m=\u001b[39;49mna_value,\n\u001b[0;32m    <a href='file:///c%3A/Users/Dell/AppData/Local/Programs/Python/Python312/Lib/site-packages/pandas/core/algorithms.py?line=598'>599</a>\u001b[0m     mask\u001b[39m=\u001b[39;49mmask,\n\u001b[0;32m    <a href='file:///c%3A/Users/Dell/AppData/Local/Programs/Python/Python312/Lib/site-packages/pandas/core/algorithms.py?line=599'>600</a>\u001b[0m     ignore_na\u001b[39m=\u001b[39;49muse_na_sentinel,\n\u001b[0;32m    <a href='file:///c%3A/Users/Dell/AppData/Local/Programs/Python/Python312/Lib/site-packages/pandas/core/algorithms.py?line=600'>601</a>\u001b[0m )\n\u001b[0;32m    <a href='file:///c%3A/Users/Dell/AppData/Local/Programs/Python/Python312/Lib/site-packages/pandas/core/algorithms.py?line=602'>603</a>\u001b[0m \u001b[39m# re-cast e.g. i8->dt64/td64, uint8->bool\u001b[39;00m\n\u001b[0;32m    <a href='file:///c%3A/Users/Dell/AppData/Local/Programs/Python/Python312/Lib/site-packages/pandas/core/algorithms.py?line=603'>604</a>\u001b[0m uniques \u001b[39m=\u001b[39m _reconstruct_data(uniques, original\u001b[39m.\u001b[39mdtype, original)\n",
      "File \u001b[1;32mpandas\\\\_libs\\\\hashtable_class_helper.pxi:7281\u001b[0m, in \u001b[0;36mpandas._libs.hashtable.PyObjectHashTable.factorize\u001b[1;34m()\u001b[0m\n",
      "File \u001b[1;32mpandas\\\\_libs\\\\hashtable_class_helper.pxi:7195\u001b[0m, in \u001b[0;36mpandas._libs.hashtable.PyObjectHashTable._unique\u001b[1;34m()\u001b[0m\n",
      "\u001b[1;31mTypeError\u001b[0m: unhashable type: 'list'"
     ]
    }
   ],
   "source": [
    "transform.transformation(df)"
   ]
  },
  {
   "cell_type": "code",
   "execution_count": 6,
   "metadata": {},
   "outputs": [],
   "source": [
    "# Construct the API with star and end dates provided by Data Factory, formatted for geojson output.\n",
    "url = f\"https://rickandmortyapi.com/api/character/1,10\"\n",
    "\n",
    "# Make the GET request to fetch data\n",
    "response = requests.get(url)"
   ]
  },
  {
   "cell_type": "code",
   "execution_count": 7,
   "metadata": {},
   "outputs": [],
   "source": [
    "#Check if the request was successful\n",
    "if response.status_code == 200:\n",
    "    #Get the JSON response\n",
    "    data = response.json()"
   ]
  },
  {
   "cell_type": "code",
   "execution_count": 8,
   "metadata": {},
   "outputs": [
    {
     "data": {
      "text/html": [
       "<div>\n",
       "<style scoped>\n",
       "    .dataframe tbody tr th:only-of-type {\n",
       "        vertical-align: middle;\n",
       "    }\n",
       "\n",
       "    .dataframe tbody tr th {\n",
       "        vertical-align: top;\n",
       "    }\n",
       "\n",
       "    .dataframe thead th {\n",
       "        text-align: right;\n",
       "    }\n",
       "</style>\n",
       "<table border=\"1\" class=\"dataframe\">\n",
       "  <thead>\n",
       "    <tr style=\"text-align: right;\">\n",
       "      <th></th>\n",
       "      <th>id</th>\n",
       "      <th>name</th>\n",
       "      <th>status</th>\n",
       "      <th>species</th>\n",
       "      <th>type</th>\n",
       "      <th>gender</th>\n",
       "      <th>origin</th>\n",
       "      <th>location</th>\n",
       "      <th>image</th>\n",
       "      <th>episode</th>\n",
       "      <th>url</th>\n",
       "      <th>created</th>\n",
       "    </tr>\n",
       "  </thead>\n",
       "  <tbody>\n",
       "    <tr>\n",
       "      <th>0</th>\n",
       "      <td>1</td>\n",
       "      <td>Rick Sanchez</td>\n",
       "      <td>Alive</td>\n",
       "      <td>Human</td>\n",
       "      <td></td>\n",
       "      <td>Male</td>\n",
       "      <td>{'name': 'Earth (C-137)', 'url': 'https://rick...</td>\n",
       "      <td>{'name': 'Citadel of Ricks', 'url': 'https://r...</td>\n",
       "      <td>https://rickandmortyapi.com/api/character/avat...</td>\n",
       "      <td>[https://rickandmortyapi.com/api/episode/1, ht...</td>\n",
       "      <td>https://rickandmortyapi.com/api/character/1</td>\n",
       "      <td>2017-11-04T18:48:46.250Z</td>\n",
       "    </tr>\n",
       "    <tr>\n",
       "      <th>1</th>\n",
       "      <td>10</td>\n",
       "      <td>Alan Rails</td>\n",
       "      <td>Dead</td>\n",
       "      <td>Human</td>\n",
       "      <td>Superhuman (Ghost trains summoner)</td>\n",
       "      <td>Male</td>\n",
       "      <td>{'name': 'unknown', 'url': ''}</td>\n",
       "      <td>{'name': 'Worldender's lair', 'url': 'https://...</td>\n",
       "      <td>https://rickandmortyapi.com/api/character/avat...</td>\n",
       "      <td>[https://rickandmortyapi.com/api/episode/25]</td>\n",
       "      <td>https://rickandmortyapi.com/api/character/10</td>\n",
       "      <td>2017-11-04T20:19:09.017Z</td>\n",
       "    </tr>\n",
       "  </tbody>\n",
       "</table>\n",
       "</div>"
      ],
      "text/plain": [
       "   id          name status species                                type gender  \\\n",
       "0   1  Rick Sanchez  Alive   Human                                       Male   \n",
       "1  10    Alan Rails   Dead   Human  Superhuman (Ghost trains summoner)   Male   \n",
       "\n",
       "                                              origin  \\\n",
       "0  {'name': 'Earth (C-137)', 'url': 'https://rick...   \n",
       "1                     {'name': 'unknown', 'url': ''}   \n",
       "\n",
       "                                            location  \\\n",
       "0  {'name': 'Citadel of Ricks', 'url': 'https://r...   \n",
       "1  {'name': 'Worldender's lair', 'url': 'https://...   \n",
       "\n",
       "                                               image  \\\n",
       "0  https://rickandmortyapi.com/api/character/avat...   \n",
       "1  https://rickandmortyapi.com/api/character/avat...   \n",
       "\n",
       "                                             episode  \\\n",
       "0  [https://rickandmortyapi.com/api/episode/1, ht...   \n",
       "1       [https://rickandmortyapi.com/api/episode/25]   \n",
       "\n",
       "                                            url                   created  \n",
       "0   https://rickandmortyapi.com/api/character/1  2017-11-04T18:48:46.250Z  \n",
       "1  https://rickandmortyapi.com/api/character/10  2017-11-04T20:19:09.017Z  "
      ]
     },
     "execution_count": 8,
     "metadata": {},
     "output_type": "execute_result"
    }
   ],
   "source": [
    "pd.DataFrame(data)"
   ]
  }
 ],
 "metadata": {
  "interpreter": {
   "hash": "b86aa247c6762e1192ef30d4a148d9cb2e1093f7e81dd7f812977548b8bc96e6"
  },
  "kernelspec": {
   "display_name": "Python 3.12.8 64-bit",
   "language": "python",
   "name": "python3"
  },
  "language_info": {
   "codemirror_mode": {
    "name": "ipython",
    "version": 3
   },
   "file_extension": ".py",
   "mimetype": "text/x-python",
   "name": "python",
   "nbconvert_exporter": "python",
   "pygments_lexer": "ipython3",
   "version": "3.12.8"
  },
  "orig_nbformat": 4
 },
 "nbformat": 4,
 "nbformat_minor": 2
}
